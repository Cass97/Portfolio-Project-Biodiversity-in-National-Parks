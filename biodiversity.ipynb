{
 "cells": [
  {
   "cell_type": "markdown",
   "metadata": {},
   "source": [
    "## Portfolio Project: Biodiversity in National Parks"
   ]
  },
  {
   "cell_type": "markdown",
   "metadata": {},
   "source": [
    "The data for this project was provided by Codecademy as part of the Data Science Foundations course.\n",
    "Rather than present this in a formal report format (e.g. something that would be present to stakeholders of the national parks), I have elected to structure it so that it shows my process of loading, exploring, cleaning, analysing and visualising the data. As I do this, I will share my observations and reasons for the steps I take in completing this project.\n",
    "\n",
    "The data is contained in two csv files. Per codecademy, these are:\n",
    " - `observations.csv` - holds recorded sightings of different species at several national parks for the past 7 days.\n",
    " - `species_info.csv` - contains data about different species and their conservation status."
   ]
  },
  {
   "cell_type": "markdown",
   "metadata": {},
   "source": [
    "**First step:** load data into Pandas dataframes for initial inspection."
   ]
  },
  {
   "cell_type": "code",
   "execution_count": 75,
   "metadata": {},
   "outputs": [],
   "source": [
    "import pandas as pd\n",
    "import matplotlib.pyplot as plt\n",
    "import seaborn as sns"
   ]
  },
  {
   "cell_type": "code",
   "execution_count": 76,
   "metadata": {},
   "outputs": [],
   "source": [
    "obs_df = pd.read_csv('observations.csv')\n",
    "species_df = pd.read_csv('species_info.csv')"
   ]
  },
  {
   "cell_type": "markdown",
   "metadata": {},
   "source": [
    "**Second step:** inspect dataset."
   ]
  },
  {
   "cell_type": "code",
   "execution_count": 77,
   "metadata": {},
   "outputs": [
    {
     "name": "stdout",
     "output_type": "stream",
     "text": [
      "                     scientific_name                            park_name  \\\n",
      "0                 Vicia benghalensis  Great Smoky Mountains National Park   \n",
      "1                     Neovison vison  Great Smoky Mountains National Park   \n",
      "2                  Prunus subcordata               Yosemite National Park   \n",
      "3               Abutilon theophrasti                  Bryce National Park   \n",
      "4           Githopsis specularioides  Great Smoky Mountains National Park   \n",
      "5  Elymus virginicus var. virginicus               Yosemite National Park   \n",
      "6                   Spizella pusilla            Yellowstone National Park   \n",
      "7                  Elymus multisetus  Great Smoky Mountains National Park   \n",
      "8             Lysimachia quadrifolia               Yosemite National Park   \n",
      "9         Diphyscium cumberlandianum            Yellowstone National Park   \n",
      "\n",
      "   observations  \n",
      "0            68  \n",
      "1            77  \n",
      "2           138  \n",
      "3            84  \n",
      "4            85  \n",
      "5           112  \n",
      "6           228  \n",
      "7            39  \n",
      "8           168  \n",
      "9           250  \n",
      "  category                scientific_name  \\\n",
      "0   Mammal  Clethrionomys gapperi gapperi   \n",
      "1   Mammal                      Bos bison   \n",
      "2   Mammal                     Bos taurus   \n",
      "3   Mammal                     Ovis aries   \n",
      "4   Mammal                 Cervus elaphus   \n",
      "5   Mammal         Odocoileus virginianus   \n",
      "6   Mammal                     Sus scrofa   \n",
      "7   Mammal                  Canis latrans   \n",
      "8   Mammal                    Canis lupus   \n",
      "9   Mammal                    Canis rufus   \n",
      "\n",
      "                                        common_names conservation_status  \n",
      "0                           Gapper's Red-Backed Vole                 NaN  \n",
      "1                              American Bison, Bison                 NaN  \n",
      "2  Aurochs, Aurochs, Domestic Cattle (Feral), Dom...                 NaN  \n",
      "3  Domestic Sheep, Mouflon, Red Sheep, Sheep (Feral)                 NaN  \n",
      "4                                      Wapiti Or Elk                 NaN  \n",
      "5                                  White-Tailed Deer                 NaN  \n",
      "6                                Feral Hog, Wild Pig                 NaN  \n",
      "7                                             Coyote  Species of Concern  \n",
      "8                                          Gray Wolf          Endangered  \n",
      "9                                           Red Wolf          Endangered  \n"
     ]
    }
   ],
   "source": [
    "print(obs_df.head(10))\n",
    "print(species_df.head(10))"
   ]
  },
  {
   "cell_type": "markdown",
   "metadata": {},
   "source": [
    "Initial observation is that there is a common variable between the two tables - `scientific_name`.\n",
    "This could be useful for merging dataframes, if necessary."
   ]
  },
  {
   "cell_type": "code",
   "execution_count": 78,
   "metadata": {},
   "outputs": [
    {
     "name": "stdout",
     "output_type": "stream",
     "text": [
      "<class 'pandas.core.frame.DataFrame'>\n",
      "RangeIndex: 23296 entries, 0 to 23295\n",
      "Data columns (total 3 columns):\n",
      " #   Column           Non-Null Count  Dtype \n",
      "---  ------           --------------  ----- \n",
      " 0   scientific_name  23296 non-null  object\n",
      " 1   park_name        23296 non-null  object\n",
      " 2   observations     23296 non-null  int64 \n",
      "dtypes: int64(1), object(2)\n",
      "memory usage: 546.1+ KB\n",
      "None\n",
      "<class 'pandas.core.frame.DataFrame'>\n",
      "RangeIndex: 5824 entries, 0 to 5823\n",
      "Data columns (total 4 columns):\n",
      " #   Column               Non-Null Count  Dtype \n",
      "---  ------               --------------  ----- \n",
      " 0   category             5824 non-null   object\n",
      " 1   scientific_name      5824 non-null   object\n",
      " 2   common_names         5824 non-null   object\n",
      " 3   conservation_status  191 non-null    object\n",
      "dtypes: object(4)\n",
      "memory usage: 182.1+ KB\n",
      "None\n"
     ]
    }
   ],
   "source": [
    "print(obs_df.info())\n",
    "print(species_df.info())"
   ]
  },
  {
   "cell_type": "markdown",
   "metadata": {},
   "source": [
    "Only column out of the two dataframes with null values is `conservation_status`. It is likely that these NaN values represent species without any conservation status attached, rather than missing data."
   ]
  },
  {
   "cell_type": "code",
   "execution_count": 79,
   "metadata": {},
   "outputs": [
    {
     "name": "stdout",
     "output_type": "stream",
     "text": [
      "scientific_name\n",
      "Canis lupus                            12\n",
      "Holcus lanatus                         12\n",
      "Puma concolor                          12\n",
      "Myotis lucifugus                       12\n",
      "Castor canadensis                      12\n",
      "                                       ..\n",
      "Equisetum laevigatum                    4\n",
      "Equisetum hyemale ssp. affine           4\n",
      "Equisetum fluviatile                    4\n",
      "Epipactis gigantea                      4\n",
      "Zygodon viridissimus var. rupestris     4\n",
      "Length: 5541, dtype: int64\n",
      "park_name\n",
      "Bryce National Park                    5824\n",
      "Great Smoky Mountains National Park    5824\n",
      "Yellowstone National Park              5824\n",
      "Yosemite National Park                 5824\n",
      "dtype: int64\n",
      "scientific_name\n",
      "Canis lupus                            3\n",
      "Holcus lanatus                         3\n",
      "Puma concolor                          3\n",
      "Myotis lucifugus                       3\n",
      "Castor canadensis                      3\n",
      "                                      ..\n",
      "Equisetum laevigatum                   1\n",
      "Equisetum hyemale ssp. affine          1\n",
      "Equisetum fluviatile                   1\n",
      "Epipactis gigantea                     1\n",
      "Zygodon viridissimus var. rupestris    1\n",
      "Length: 5541, dtype: int64\n"
     ]
    }
   ],
   "source": [
    "print(obs_df.value_counts('scientific_name'))\n",
    "print(obs_df.value_counts('park_name'))\n",
    "print(species_df.value_counts('scientific_name'))"
   ]
  },
  {
   "cell_type": "markdown",
   "metadata": {},
   "source": [
    "Can see there are 5824 observations for each national park, which matches the 5824 different observations in the species dataframe. This indicates each species has an entry in each national park. Can also see there are duplicates of scientific_names in both dataframes."
   ]
  },
  {
   "cell_type": "code",
   "execution_count": 80,
   "metadata": {},
   "outputs": [
    {
     "name": "stdout",
     "output_type": "stream",
     "text": [
      "              category    scientific_name        common_names  \\\n",
      "count             5824               5824                5824   \n",
      "unique               7               5541                5504   \n",
      "top     Vascular Plant  Castor canadensis  Brachythecium Moss   \n",
      "freq              4470                  3                   7   \n",
      "\n",
      "       conservation_status  \n",
      "count                  191  \n",
      "unique                   4  \n",
      "top     Species of Concern  \n",
      "freq                   161  \n"
     ]
    }
   ],
   "source": [
    "print(species_df.describe())"
   ]
  },
  {
   "cell_type": "markdown",
   "metadata": {},
   "source": [
    "Of the 5824 scientific names in the species df, there are only 5541 unique. Some are repeated up to 3 times (also shown in the value_counts function). This does not align with the number of unique common names (5504), which indicates some duplicates are a result of observations with different common names for the same scientific name.\n",
    "\n",
    "Additionally, there are 4 unique conservation statuses, and 7 unique animal categories. These are explored below."
   ]
  },
  {
   "cell_type": "code",
   "execution_count": 81,
   "metadata": {},
   "outputs": [
    {
     "data": {
      "text/plain": [
       "conservation_status\n",
       "Endangered             16\n",
       "In Recovery             4\n",
       "Species of Concern    161\n",
       "Threatened             10\n",
       "dtype: int64"
      ]
     },
     "execution_count": 81,
     "metadata": {},
     "output_type": "execute_result"
    }
   ],
   "source": [
    "species_df.groupby('conservation_status').size()"
   ]
  },
  {
   "cell_type": "code",
   "execution_count": 82,
   "metadata": {},
   "outputs": [
    {
     "data": {
      "text/plain": [
       "category\n",
       "Amphibian              80\n",
       "Bird                  521\n",
       "Fish                  127\n",
       "Mammal                214\n",
       "Nonvascular Plant     333\n",
       "Reptile                79\n",
       "Vascular Plant       4470\n",
       "dtype: int64"
      ]
     },
     "execution_count": 82,
     "metadata": {},
     "output_type": "execute_result"
    }
   ],
   "source": [
    "species_df.groupby('category').size()"
   ]
  },
  {
   "cell_type": "markdown",
   "metadata": {},
   "source": [
    "No particular observations at this stage. Will perform exploratory data analysis on these variables later."
   ]
  },
  {
   "cell_type": "markdown",
   "metadata": {},
   "source": [
    "**Third step:** clean dataset."
   ]
  },
  {
   "cell_type": "markdown",
   "metadata": {},
   "source": [
    "The next step will be to explore and remove the duplicates identified above.\n",
    "Following this, the two dataframes will be merged on their shared variable `scientific_name`.\n",
    "First, the observations dataframe will be inspected for observations where the whole row is a duplicate. "
   ]
  },
  {
   "cell_type": "code",
   "execution_count": 83,
   "metadata": {
    "scrolled": true
   },
   "outputs": [
    {
     "name": "stdout",
     "output_type": "stream",
     "text": [
      "              scientific_name                            park_name  \\\n",
      "365            Plantago major  Great Smoky Mountains National Park   \n",
      "513             Arctium minus               Yosemite National Park   \n",
      "627        Spilogale putorius            Yellowstone National Park   \n",
      "1020     Eleocharis palustris  Great Smoky Mountains National Park   \n",
      "1032      Hesperis matronalis                  Bryce National Park   \n",
      "1454   Echinochloa crus-galli  Great Smoky Mountains National Park   \n",
      "1635    Streptopelia decaocto            Yellowstone National Park   \n",
      "4178     Monotropa hypopithys  Great Smoky Mountains National Park   \n",
      "4527   Botrychium virginianum            Yellowstone National Park   \n",
      "7219        Prunella vulgaris  Great Smoky Mountains National Park   \n",
      "7263   Echinochloa crus-galli  Great Smoky Mountains National Park   \n",
      "8710    Streptopelia decaocto            Yellowstone National Park   \n",
      "10038          Plantago major  Great Smoky Mountains National Park   \n",
      "10674           Arctium minus               Yosemite National Park   \n",
      "10809    Potentilla norvegica               Yosemite National Park   \n",
      "12381    Eleocharis palustris  Great Smoky Mountains National Park   \n",
      "13097           Poa compressa  Great Smoky Mountains National Park   \n",
      "13372     Hesperis matronalis                  Bryce National Park   \n",
      "14142       Cichorium intybus            Yellowstone National Park   \n",
      "16741       Prunella vulgaris  Great Smoky Mountains National Park   \n",
      "17378    Potentilla norvegica               Yosemite National Park   \n",
      "17577      Spilogale putorius            Yellowstone National Park   \n",
      "18141           Poa compressa  Great Smoky Mountains National Park   \n",
      "18435     Trifolium campestre            Yellowstone National Park   \n",
      "19392       Cichorium intybus            Yellowstone National Park   \n",
      "19575            Salix exigua               Yosemite National Park   \n",
      "20294  Botrychium virginianum            Yellowstone National Park   \n",
      "20820    Monotropa hypopithys  Great Smoky Mountains National Park   \n",
      "21151     Trifolium campestre            Yellowstone National Park   \n",
      "22698            Salix exigua               Yosemite National Park   \n",
      "\n",
      "       observations  \n",
      "365              90  \n",
      "513             162  \n",
      "627             256  \n",
      "1020             62  \n",
      "1032            124  \n",
      "1454             62  \n",
      "1635            255  \n",
      "4178             73  \n",
      "4527            232  \n",
      "7219             75  \n",
      "7263             62  \n",
      "8710            255  \n",
      "10038            90  \n",
      "10674           162  \n",
      "10809           148  \n",
      "12381            62  \n",
      "13097            80  \n",
      "13372           124  \n",
      "14142           266  \n",
      "16741            75  \n",
      "17378           148  \n",
      "17577           256  \n",
      "18141            80  \n",
      "18435           239  \n",
      "19392           266  \n",
      "19575           186  \n",
      "20294           232  \n",
      "20820            73  \n",
      "21151           239  \n",
      "22698           186  \n"
     ]
    }
   ],
   "source": [
    "#Will mark all duplicates as True by using keep=False.\n",
    "obs_dup = obs_df.duplicated(keep=False)\n",
    "print(obs_df[obs_dup==True])\n"
   ]
  },
  {
   "cell_type": "markdown",
   "metadata": {},
   "source": [
    "The above shows the small segment of the dataframe where the entire observation is a duplicate, including the exact number of observations. I am interested to see the number of duplicates where there are different numbers of observations to see if there are substantially more. Therefore, I will select data where only `scientific_name` and `park_name` are duplicates. "
   ]
  },
  {
   "cell_type": "code",
   "execution_count": 84,
   "metadata": {},
   "outputs": [
    {
     "name": "stdout",
     "output_type": "stream",
     "text": [
      "              scientific_name                            park_name  \\\n",
      "15              Lunaria annua  Great Smoky Mountains National Park   \n",
      "22           Elodea nuttallii               Yosemite National Park   \n",
      "25     Amaranthus retroflexus            Yellowstone National Park   \n",
      "27          Scirpus cyperinus  Great Smoky Mountains National Park   \n",
      "30           Glyceria striata               Yosemite National Park   \n",
      "...                       ...                                  ...   \n",
      "23258    Microtus longicaudus            Yellowstone National Park   \n",
      "23259         Agrostis scabra                  Bryce National Park   \n",
      "23267      Oxalis corniculata               Yosemite National Park   \n",
      "23273      Dactylis glomerata                  Bryce National Park   \n",
      "23280      Botrychium simplex            Yellowstone National Park   \n",
      "\n",
      "       observations  \n",
      "15               65  \n",
      "22              158  \n",
      "25              247  \n",
      "27               73  \n",
      "30              117  \n",
      "...             ...  \n",
      "23258           244  \n",
      "23259           118  \n",
      "23267           164  \n",
      "23273            89  \n",
      "23280           241  \n",
      "\n",
      "[2228 rows x 3 columns]\n"
     ]
    }
   ],
   "source": [
    "obs_dup = obs_df.duplicated(subset=['scientific_name', 'park_name'], keep=False)\n",
    "print(obs_df[obs_dup == True])"
   ]
  },
  {
   "cell_type": "markdown",
   "metadata": {},
   "source": [
    "There are a significant number of duplicates of the same species and national park. Interested to explore a couple of examples for context."
   ]
  },
  {
   "cell_type": "code",
   "execution_count": 85,
   "metadata": {},
   "outputs": [
    {
     "name": "stdout",
     "output_type": "stream",
     "text": [
      "         scientific_name                            park_name  observations\n",
      "27     Scirpus cyperinus  Great Smoky Mountains National Park            73\n",
      "21402  Scirpus cyperinus  Great Smoky Mountains National Park            77\n",
      "          scientific_name            park_name  observations\n",
      "8289   Dactylis glomerata  Bryce National Park           105\n",
      "23273  Dactylis glomerata  Bryce National Park            89\n",
      "            scientific_name                  park_name  observations\n",
      "1092   Microtus longicaudus  Yellowstone National Park           218\n",
      "23258  Microtus longicaudus  Yellowstone National Park           244\n"
     ]
    }
   ],
   "source": [
    "print(obs_df[(obs_df['scientific_name']=='Scirpus cyperinus') & (obs_df['park_name']=='Great Smoky Mountains National Park')])\n",
    "\n",
    "print(obs_df[(obs_df['scientific_name']=='Dactylis glomerata') & (obs_df['park_name']=='Bryce National Park')])\n",
    "\n",
    "print(obs_df[(obs_df['scientific_name']=='Microtus longicaudus') & (obs_df['park_name']=='Yellowstone National Park')])"
   ]
  },
  {
   "cell_type": "markdown",
   "metadata": {},
   "source": [
    "It is difficult to know how to correctly treat these duplicates for the purposes of accurate and insightful analysis. Ordinarily, I would send some queries to the organisation responsible for collecting the data to ascertain the cause of the duplicates. Since that option is not available, I am left to theorise as to the cause.\n",
    "\n",
    "I have two theories about why there are duplicate entries of the same scientific names in the same national park: <br>\n",
    "1. These observations were captured by different observers (e.g. two different national park employees) <br>\n",
    "2. These observations are actually of slightly different species, but with the same scientific name. <br>\n",
    "\n",
    "After some brief research, I found that, by design, two species cannot have the same scientific name (i.e. latin name). Therefore, my first theory is the most plausible I have available. This is supported by the examples directly above, which show a relatively similar number of observations. If the duplicates are due to separate observers, it makes sense that they would capture a similar number of observations of the same species. Indeed, I showed many examples further above where the entire row was a duplicate, including the exact number of observations.\n",
    "\n",
    "I would like to explore this a little further before commencing data analysis, as information about the duplicates in the collected data would still be valuable to stakeholders (e.g. the national parks organisations), particularly when it comes to the procedures for data collection. If they can cut down on duplicated efforts in data collection it will make more efficient use of their employees' time and save the cost of a data analyst spending time cleaning the dataset.\n",
    "\n",
    "I am interested to see if the rows in the dataframe that are complete duplicates occur mainly with species that are plants. Plants, presumably, remain in the same location for the seven day period, whereas animals do not. If my theory is correct, that would make it far more likely that plants would be observed the exact same number of times by different observers. \n",
    "\n",
    "As I have not merged the two dataframes yet, I will perform this by finding the segment of the species dataframe where the `scientific_name` matches those in the observations dataframe that are complete duplicates."
   ]
  },
  {
   "cell_type": "markdown",
   "metadata": {},
   "source": [
    "The initial inspection showed that the indices don't align between the two dataframes. Will have to access rows in the species dataframe using labels in `scientific_name` column. Will assign a separate variable for the segment of the observations dataframe with exact duplicates only."
   ]
  },
  {
   "cell_type": "code",
   "execution_count": 86,
   "metadata": {},
   "outputs": [
    {
     "name": "stdout",
     "output_type": "stream",
     "text": [
      "            category         scientific_name  \\\n",
      "18            Mammal      Spilogale putorius   \n",
      "743   Vascular Plant           Arctium minus   \n",
      "768   Vascular Plant       Cichorium intybus   \n",
      "1049  Vascular Plant     Hesperis matronalis   \n",
      "1249  Vascular Plant    Monotropa hypopithys   \n",
      "1398  Vascular Plant     Trifolium campestre   \n",
      "1585  Vascular Plant       Prunella vulgaris   \n",
      "1672  Vascular Plant          Plantago major   \n",
      "1913  Vascular Plant  Botrychium virginianum   \n",
      "2079  Vascular Plant    Eleocharis palustris   \n",
      "2216  Vascular Plant  Echinochloa crus-galli   \n",
      "2290  Vascular Plant           Poa compressa   \n",
      "2512  Vascular Plant    Potentilla norvegica   \n",
      "3077            Bird   Streptopelia decaocto   \n",
      "3140            Bird   Streptopelia decaocto   \n",
      "3405  Vascular Plant           Arctium minus   \n",
      "3432  Vascular Plant       Cichorium intybus   \n",
      "3641  Vascular Plant     Hesperis matronalis   \n",
      "3804  Vascular Plant    Monotropa hypopithys   \n",
      "3868  Vascular Plant     Trifolium campestre   \n",
      "3910  Vascular Plant       Prunella vulgaris   \n",
      "3966  Vascular Plant          Plantago major   \n",
      "4008  Vascular Plant            Salix exigua   \n",
      "4055  Vascular Plant  Botrychium virginianum   \n",
      "4135  Vascular Plant    Eleocharis palustris   \n",
      "4219  Vascular Plant  Echinochloa crus-galli   \n",
      "4265  Vascular Plant           Poa compressa   \n",
      "4382  Vascular Plant    Potentilla norvegica   \n",
      "4452          Mammal      Spilogale putorius   \n",
      "4514            Bird   Streptopelia decaocto   \n",
      "5367  Vascular Plant            Salix exigua   \n",
      "\n",
      "                                           common_names conservation_status  \n",
      "18                                Eastern Spotted Skunk                 NaN  \n",
      "743                     Lesser Burdock, Lesser Burrdock                 NaN  \n",
      "768                                   Chickory, Chicory                 NaN  \n",
      "1049                                       Dames Rocket                 NaN  \n",
      "1249                         American Pinesap, Pine-Sap                 NaN  \n",
      "1398                     Low Hop Clover, Low Hop-Clover                 NaN  \n",
      "1585                                Heal-All, Self-Heal                 NaN  \n",
      "1672                     Nipple-Seed Plantain, Plantain                 NaN  \n",
      "1913                                   Rattlesnake Fern                 NaN  \n",
      "2079                                         Spike-Rush                 NaN  \n",
      "2216                                     Barnyard Grass                 NaN  \n",
      "2290      Canada Bluegrass, Canada Bluegrass, Wiregrass                 NaN  \n",
      "2512             Norwegian Cinquefoil, Rough Cinquefoil                 NaN  \n",
      "3077                             Eurasian Collared-Dove                 NaN  \n",
      "3140     Eurasian Collared Dove, Eurasian Collared-Dove                 NaN  \n",
      "3405  Beggar's Button, Burdock, Common Burdock, Less...                 NaN  \n",
      "3432  Blue Sailors, Chickory, Chicory, Coffeeweed, C...                 NaN  \n",
      "3641  Dames Rocket, Dame's Rocket, Dames Violet, Mot...                 NaN  \n",
      "3804                                            Pinesap                 NaN  \n",
      "3868  Big Hop Clover, Field Clover, Large Hop Clover...                 NaN  \n",
      "3910       Common Selfheal, Heal All, Healall, Selfheal                 NaN  \n",
      "3966  Broadleaf Plantain, Buckhorn Plantain, Common ...                 NaN  \n",
      "4008  Coyote Willow, Desert Willow, Narrowleaf Willo...                 NaN  \n",
      "4055                 Common Grapefern, Rattlesnake Fern                 NaN  \n",
      "4135  Common Spikerush, Creeping Spikerush, Creeping...                 NaN  \n",
      "4219  Barnyard Grass, Barnyardgrass, Cockspur, Japan...                 NaN  \n",
      "4265             Canada Bluegrass, Flat-Stem Blue Grass                 NaN  \n",
      "4382                               Norwegian Cinquefoil                 NaN  \n",
      "4452                                      Spotted Skunk                 NaN  \n",
      "4514                             Eurasian Collared Dove                 NaN  \n",
      "5367                               Narrow-Leaved Willow                 NaN  \n",
      "category\n",
      "Vascular Plant    0.838710\n",
      "Bird              0.096774\n",
      "Mammal            0.064516\n",
      "dtype: float64\n",
      "category               31\n",
      "scientific_name        31\n",
      "common_names           31\n",
      "conservation_status     0\n",
      "dtype: int64\n"
     ]
    }
   ],
   "source": [
    "obs_dup = obs_df.duplicated(keep=False)\n",
    "exact_dup = obs_df[obs_dup == True]\n",
    "exact_dup_species = species_df[species_df['scientific_name'].isin(list(exact_dup['scientific_name']))]\n",
    "print(exact_dup_species)\n",
    "#Compare plant vs non-plant counts\n",
    "print(exact_dup_species.value_counts(subset='category', normalize=True))\n",
    "print(exact_dup_species.count())"
   ]
  },
  {
   "cell_type": "markdown",
   "metadata": {},
   "source": [
    "The above shows that a large majority of the species that were complete duplicates are vascular plants. However, it is important to note that a large majority of the species in the whole dataset are vascular plants. Accordingly, I am not prepared to claim that this analysis of complete duplicates supports or detracts from my theory of separate observers. Further, while a sample size of 31 can be large enough to be statistically significant, it is still only a very small proportion of the 5824 total observations in the species dataframe, and I do not think further analysis on this relationship will result in any valuable insight.\n",
    "\n",
    "The final observation in support of my theory is that the duplicates in the `scientific_name` column in the species dataframe above all have slightly different entries in the `common_names` column. As we can see above, there is more discretion available when entering values in the common names column, as species can have multiple common names. It seems highly likely that two different observers would provide a combination of different common names in some instances.\n",
    "\n",
    "The conclusion I have made after the analysis above is to drop the duplicate observations of the same species in the same national park. Specifically, I will keep the first observation and drop the following duplicates. The primary reason for this is that having one or more duplicates would increase the total observation count for those species in those parks. When doing exploratory data analysis, this could be misleading when making comparisons against species/parks without duplicates. By taking the first observation and dropping the duplicates, it will make them most consistent with the rest of the dataset."
   ]
  },
  {
   "cell_type": "code",
   "execution_count": 87,
   "metadata": {},
   "outputs": [
    {
     "name": "stdout",
     "output_type": "stream",
     "text": [
      "            scientific_name                  park_name  observations\n",
      "483       Agrostis gigantea  Yellowstone National Park           235\n",
      "490      Agrostis mertensii     Yosemite National Park           128\n",
      "945           Rumex crispus  Yellowstone National Park           255\n",
      "1213      Dianthus barbatus        Bryce National Park           110\n",
      "1259        Riparia riparia        Bryce National Park            91\n",
      "...                     ...                        ...           ...\n",
      "23258  Microtus longicaudus  Yellowstone National Park           244\n",
      "23259       Agrostis scabra        Bryce National Park           118\n",
      "23267    Oxalis corniculata     Yosemite National Park           164\n",
      "23273    Dactylis glomerata        Bryce National Park            89\n",
      "23280    Botrychium simplex  Yellowstone National Park           241\n",
      "\n",
      "[1132 rows x 3 columns]\n",
      "<class 'pandas.core.frame.DataFrame'>\n",
      "Int64Index: 22164 entries, 0 to 23295\n",
      "Data columns (total 3 columns):\n",
      " #   Column           Non-Null Count  Dtype \n",
      "---  ------           --------------  ----- \n",
      " 0   scientific_name  22164 non-null  object\n",
      " 1   park_name        22164 non-null  object\n",
      " 2   observations     22164 non-null  int64 \n",
      "dtypes: int64(1), object(2)\n",
      "memory usage: 692.6+ KB\n",
      "None\n",
      "1132\n"
     ]
    }
   ],
   "source": [
    "#First, confirm how many will be dropped by making keep = 'first' (default)\n",
    "obs_dup = obs_df.duplicated(subset=['scientific_name', 'park_name'])\n",
    "print(obs_df[obs_dup == True])\n",
    "#Next, use drop_duplicates()\n",
    "obs_df.drop_duplicates(subset=['scientific_name', 'park_name'], inplace=True)\n",
    "print(obs_df.info())\n",
    "\n",
    "diff = 23296 - 22164\n",
    "print(diff)"
   ]
  },
  {
   "cell_type": "markdown",
   "metadata": {},
   "source": [
    "**Fourth step:** Merge dataframes\n",
    "The final step in making the dataset ready for exploratory data analysis is to merge the species and observations dataframes into one. This will make it easier to visualise and perform statistical analysis on.\n",
    "\n",
    "I wish to keep all rows in the new observations dataframe with the dropped duplicates and merge only rows from the species dataframe that have the same scientific name. Will use a left merge to accomplish this."
   ]
  },
  {
   "cell_type": "code",
   "execution_count": 88,
   "metadata": {},
   "outputs": [
    {
     "name": "stdout",
     "output_type": "stream",
     "text": [
      "<class 'pandas.core.frame.DataFrame'>\n",
      "Int64Index: 23296 entries, 0 to 23295\n",
      "Data columns (total 6 columns):\n",
      " #   Column               Non-Null Count  Dtype \n",
      "---  ------               --------------  ----- \n",
      " 0   scientific_name      23296 non-null  object\n",
      " 1   park_name            23296 non-null  object\n",
      " 2   observations         23296 non-null  int64 \n",
      " 3   category             23296 non-null  object\n",
      " 4   common_names         23296 non-null  object\n",
      " 5   conservation_status  764 non-null    object\n",
      "dtypes: int64(1), object(5)\n",
      "memory usage: 1.2+ MB\n",
      "None\n",
      "       scientific_name                  park_name  observations  \\\n",
      "498  Agrostis gigantea  Yellowstone National Park           253   \n",
      "499  Agrostis gigantea  Yellowstone National Park           253   \n",
      "\n",
      "           category                         common_names conservation_status  \n",
      "498  Vascular Plant                               Redtop                 NaN  \n",
      "499  Vascular Plant  Black Bent, Redtop, Water Bentgrass                 NaN  \n"
     ]
    }
   ],
   "source": [
    "full_info = obs_df.merge(species_df, how = 'left', on = 'scientific_name')\n",
    "print(full_info.info())\n",
    "print(full_info[(full_info['scientific_name'] == 'Agrostis gigantea') & (full_info['park_name'] == 'Yellowstone National Park')])"
   ]
  },
  {
   "cell_type": "markdown",
   "metadata": {},
   "source": [
    "The error I made, and explored, above is that the duplicates I dropped previously still had their corresponding entries in the species dataframe. This means that there were still duplicates in the species dataframe which merged in to create new rows. The example I explored shows that the same observation was duplicated with different common names. This is why the number of entries in the full_info dataframe jumped back to 23296, rather than 22164.\n",
    "\n",
    "This is an easy fix, as I will simply repeat the drop_duplicates() function with the full_info dataframe."
   ]
  },
  {
   "cell_type": "code",
   "execution_count": 89,
   "metadata": {},
   "outputs": [
    {
     "name": "stdout",
     "output_type": "stream",
     "text": [
      "<class 'pandas.core.frame.DataFrame'>\n",
      "Int64Index: 22164 entries, 0 to 23295\n",
      "Data columns (total 6 columns):\n",
      " #   Column               Non-Null Count  Dtype \n",
      "---  ------               --------------  ----- \n",
      " 0   scientific_name      22164 non-null  object\n",
      " 1   park_name            22164 non-null  object\n",
      " 2   observations         22164 non-null  int64 \n",
      " 3   category             22164 non-null  object\n",
      " 4   common_names         22164 non-null  object\n",
      " 5   conservation_status  712 non-null    object\n",
      "dtypes: int64(1), object(5)\n",
      "memory usage: 1.2+ MB\n",
      "None\n"
     ]
    }
   ],
   "source": [
    "full_info.drop_duplicates(subset=['scientific_name', 'park_name'], inplace=True)\n",
    "print(full_info.info())"
   ]
  },
  {
   "cell_type": "markdown",
   "metadata": {},
   "source": [
    "**Fifth step:** Exploratory Data Analysis (EDA)<br>\n",
    "For me, the most interesting engaging part of working with this dataset has been in the inspecting and cleaning stages above. I have a pretty good understanding of the dataset and do not think there will be many interesting insights available from EDA. For completeness, I will still produce a few visualisations below. This will at least show that the dataframe was effectively cleaned and merged for use in EDA.\n",
    "\n",
    "The three plots I will produce are:\n",
    "- Bar plot showing total number of observations per category of species\n",
    "- Bar plot showing total number of observations per category of species, also separated by national park\n",
    "- Box plot showing spread in number of observations for each conservation status"
   ]
  },
  {
   "cell_type": "code",
   "execution_count": 108,
   "metadata": {},
   "outputs": [
    {
     "data": {
      "image/png": "[encoded data removed]",
      "text/plain": [
       "<Figure size 720x432 with 1 Axes>"
      ]
     },
     "metadata": {
      "needs_background": "light"
     },
     "output_type": "display_data"
    },
    {
     "data": {
      "text/plain": [
       "<Figure size 432x288 with 0 Axes>"
      ]
     },
     "metadata": {},
     "output_type": "display_data"
    }
   ],
   "source": [
    "# Group by category and sum the observations\n",
    "full_info_sum = full_info.groupby('category')['observations'].sum().reset_index()\n",
    "\n",
    "# Create a figure with a custom size\n",
    "fig, ax = plt.subplots(figsize=(10, 6))\n",
    "\n",
    "# Plot the bar plot with the aggregated data\n",
    "sns.barplot(data=full_info_sum, x='category', y='observations', ax=ax)\n",
    "plt.title('Sum of Observations by Category')\n",
    "plt.xlabel('Category of Species')\n",
    "plt.ylabel('Observations')\n",
    "plt.show()\n",
    "plt.clf()"
   ]
  },
  {
   "cell_type": "markdown",
   "metadata": {},
   "source": [
    "As seen on initial inspection of dataset, vascular plant has significantly more observations than any other category of species. "
   ]
  },
  {
   "cell_type": "code",
   "execution_count": 112,
   "metadata": {},
   "outputs": [
    {
     "data": {
      "image/png": "[encoded data removed]",
      "text/plain": [
       "<Figure size 1152x576 with 1 Axes>"
      ]
     },
     "metadata": {
      "needs_background": "light"
     },
     "output_type": "display_data"
    },
    {
     "data": {
      "text/plain": [
       "<Figure size 432x288 with 0 Axes>"
      ]
     },
     "metadata": {},
     "output_type": "display_data"
    }
   ],
   "source": [
    "# Group by category and park_name and sum the observations\n",
    "full_info_sum = full_info.groupby(['category', 'park_name'])['observations'].sum().reset_index()\n",
    "\n",
    "# Create a figure with a custom size\n",
    "fig, ax = plt.subplots(figsize=(16, 8))\n",
    "\n",
    "# Plot the bar plot with the aggregated data and hue by park_name\n",
    "sns.barplot(data=full_info_sum, x='park_name', y='observations', hue='category', ax=ax)\n",
    "plt.title('Sum of Observations by Category and Park Name')\n",
    "plt.xlabel('National Park')\n",
    "plt.ylabel('Observations')\n",
    "\n",
    "# Adjust the font size of the axis labels\n",
    "plt.xticks(fontsize=12)\n",
    "plt.yticks(fontsize=12)\n",
    "\n",
    "plt.show()\n",
    "plt.clf()"
   ]
  },
  {
   "cell_type": "markdown",
   "metadata": {},
   "source": [
    "The difference in observations across species seems to be fairly well repliacted across the four national parks."
   ]
  },
  {
   "cell_type": "code",
   "execution_count": 114,
   "metadata": {},
   "outputs": [
    {
     "data": {
      "image/png": "[encoded data removed]",
      "text/plain": [
       "<Figure size 720x432 with 1 Axes>"
      ]
     },
     "metadata": {
      "needs_background": "light"
     },
     "output_type": "display_data"
    },
    {
     "data": {
      "text/plain": [
       "<Figure size 432x288 with 0 Axes>"
      ]
     },
     "metadata": {},
     "output_type": "display_data"
    }
   ],
   "source": [
    "# Create a figure with a custom size\n",
    "fig, ax = plt.subplots(figsize=(10, 6))\n",
    "\n",
    "# Plot the box plot with the data\n",
    "sns.boxplot(data=full_info, x='conservation_status', y='observations', ax=ax)\n",
    "plt.title('Spread of Observations by Conservation Status')\n",
    "plt.xlabel('Conservation Status')\n",
    "plt.ylabel('Observations')\n",
    "\n",
    "plt.show()\n",
    "plt.clf()"
   ]
  },
  {
   "cell_type": "markdown",
   "metadata": {},
   "source": [
    "Can see that endangered species have a much tighter spread in number of obserations. Species of concern has a much larger spread.\n",
    "\n",
    "I think, in general, the number of observations required to be given any of the above conservation statuses would vary across species. I will roughly explore this notion below by adding a third variable 'category' to the box plot."
   ]
  },
  {
   "cell_type": "code",
   "execution_count": 118,
   "metadata": {},
   "outputs": [
    {
     "data": {
      "image/png": "[encoded data removed]",
      "text/plain": [
       "<Figure size 1152x576 with 1 Axes>"
      ]
     },
     "metadata": {
      "needs_background": "light"
     },
     "output_type": "display_data"
    },
    {
     "data": {
      "text/plain": [
       "<Figure size 432x288 with 0 Axes>"
      ]
     },
     "metadata": {},
     "output_type": "display_data"
    }
   ],
   "source": [
    "# Create a figure with a custom size\n",
    "fig, ax = plt.subplots(figsize=(16, 8))\n",
    "\n",
    "# Plot the box plot with the data\n",
    "sns.boxplot(data=full_info, x='category', y='observations', hue='conservation_status', ax=ax)\n",
    "plt.title('Spread of Observations by Conservation Status and Species Category')\n",
    "plt.xlabel('Category')\n",
    "plt.ylabel('Observations')\n",
    "\n",
    "plt.show()\n",
    "plt.clf()"
   ]
  },
  {
   "cell_type": "markdown",
   "metadata": {},
   "source": [
    "Despite some species not having certain conservation statuses, the box plots do appear quite comparable across species. For example, the inter-quartile range of observations for those declared endangered tends to be around 30 - 50.\n",
    "\n",
    "There certainly are not any that vary significantly between species. Perhaps my initial thinking is incorrect and there is a range of observations that is a uniform criteria for conservation statuses across species."
   ]
  },
  {
   "cell_type": "markdown",
   "metadata": {},
   "source": [
    "This is where I will conclude this open-ended portfolio project.\n",
    "\n",
    "The most valuable part of this project was practicing my skills in data wrangling through inspecting and cleaning the dataset. I also believe that the work I did in analysing the duplicate data could be the most valuable to stakeholders if this were an actual report. As mentioned, improving data collection processes could be very beneficial in reducing costs in the future."
   ]
  }
 ],
 "metadata": {
  "kernelspec": {
   "display_name": "Python 3 (ipykernel)",
   "language": "python",
   "name": "python3"
  },
  "language_info": {
   "codemirror_mode": {
    "name": "ipython",
    "version": 3
   },
   "file_extension": ".py",
   "mimetype": "text/x-python",
   "name": "python",
   "nbconvert_exporter": "python",
   "pygments_lexer": "ipython3",
   "version": "3.9.12"
  }
 },
 "nbformat": 4,
 "nbformat_minor": 4
}
